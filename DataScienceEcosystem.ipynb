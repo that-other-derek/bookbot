{
 "cells": [
  {
   "cell_type": "markdown",
   "id": "7023db91-6359-4064-8039-168926637d6f",
   "metadata": {},
   "source": [
    "# Data Science Tools and Ecosystem"
   ]
  },
  {
   "cell_type": "markdown",
   "id": "bfce63ae-d2be-40f5-9d06-c8ca30d3af46",
   "metadata": {},
   "source": [
    "In this notebook, Data Science Tools and Ecosystem are summarized."
   ]
  },
  {
   "cell_type": "markdown",
   "id": "498fbdcc-7b66-4559-8dd9-12d638759637",
   "metadata": {},
   "source": [
    "***"
   ]
  },
  {
   "cell_type": "markdown",
   "id": "f5346a4c-6f6e-48cb-a504-f38c0a878cb2",
   "metadata": {},
   "source": [
    "Some of the popular languages that Data Scientists use are:\n",
    "1. Python\n",
    "2. R\n",
    "3. SQL\n",
    "4. Scala\n",
    "5. Julia"
   ]
  },
  {
   "cell_type": "markdown",
   "id": "c32dea67-3a26-45fe-983a-41f0130dcbe7",
   "metadata": {},
   "source": [
    "***"
   ]
  },
  {
   "cell_type": "markdown",
   "id": "1ac18ea4-3f33-4807-aff6-4fee3eb8b9f6",
   "metadata": {},
   "source": [
    "Some of the commonly used libraries used by Data Scientists include:\n",
    "1. Pandas\n",
    "2. TensorFlow\n",
    "3. NumPy\n",
    "4. Scikit-learn\n",
    "5. Seaborn\n",
    "6. SciPy\n",
    "7. Matplotlib\n",
    "8. Keras\n"
   ]
  },
  {
   "cell_type": "markdown",
   "id": "d1171729-e8e2-481e-b280-9ffde93e9d68",
   "metadata": {},
   "source": [
    "***"
   ]
  },
  {
   "cell_type": "markdown",
   "id": "7ecf46c7-6520-4d22-836f-6a1c7f3788bd",
   "metadata": {},
   "source": [
    "| Data Science Tools |\n",
    "| ------------------ |\n",
    "| Jupyter Notbook |\n",
    "| JupyterLab |\n",
    "| Apache Spark |\n",
    "| Matplotlib |"
   ]
  },
  {
   "cell_type": "markdown",
   "id": "aeca0d33-cea6-4bd0-aa47-9a4e921bba2b",
   "metadata": {},
   "source": [
    "***\n",
    "### Below are a few examples of evaluating arithmetic expressions in Python"
   ]
  },
  {
   "cell_type": "code",
   "execution_count": 2,
   "id": "f242e24e-1244-49a6-b024-59bd23ed7aca",
   "metadata": {},
   "outputs": [
    {
     "data": {
      "text/plain": [
       "17"
      ]
     },
     "execution_count": 2,
     "metadata": {},
     "output_type": "execute_result"
    }
   ],
   "source": [
    "#  This a simple arithmetic expression to mutiply then add integers\n",
    "(3*4)+5"
   ]
  },
  {
   "cell_type": "code",
   "execution_count": 3,
   "id": "aad2e2fa-7066-404d-8e21-0e76afc4190a",
   "metadata": {},
   "outputs": [
    {
     "data": {
      "text/plain": [
       "3.3333333333333335"
      ]
     },
     "execution_count": 3,
     "metadata": {},
     "output_type": "execute_result"
    }
   ],
   "source": [
    "#  This will convert 200 minutes to hours by diving by 60\n",
    "200/60"
   ]
  },
  {
   "cell_type": "markdown",
   "id": "09e12b42-4ddb-466c-a976-a2d4e22f12bd",
   "metadata": {},
   "source": [
    "***\n",
    "__Objectives:__\n",
    "- Be cool by being a data scientist\n",
    "- Apply data sceince skills for data-driven value outcomes\n",
    "- Become more proficient in Python, SQL and NoSQL "
   ]
  },
  {
   "cell_type": "markdown",
   "id": "e05f5b0e-4353-49aa-80e3-f58807d3d323",
   "metadata": {},
   "source": [
    "***\n",
    "## Author\n",
    "Derek Stringfellow"
   ]
  },
  {
   "cell_type": "code",
   "execution_count": null,
   "id": "6aa40ab9-02aa-4d12-b84a-33095aec122c",
   "metadata": {},
   "outputs": [],
   "source": []
  }
 ],
 "metadata": {
  "kernelspec": {
   "display_name": "Python 3 (ipykernel)",
   "language": "python",
   "name": "python3"
  },
  "language_info": {
   "codemirror_mode": {
    "name": "ipython",
    "version": 3
   },
   "file_extension": ".py",
   "mimetype": "text/x-python",
   "name": "python",
   "nbconvert_exporter": "python",
   "pygments_lexer": "ipython3",
   "version": "3.12.2"
  }
 },
 "nbformat": 4,
 "nbformat_minor": 5
}
